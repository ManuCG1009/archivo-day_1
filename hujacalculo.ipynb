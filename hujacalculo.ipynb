{
 "cells": [
  {
   "cell_type": "code",
   "execution_count": 71,
   "metadata": {},
   "outputs": [
    {
     "name": "stdout",
     "output_type": "stream",
     "text": [
      "32020\n"
     ]
    }
   ],
   "source": [
    "import pandas as pd\n",
    "\n",
    "datos = pd.read_csv(\"/home/manuel-colin/Documentos/ClasesRech/6HojaCalculo/Lista.csv\", header= None)\n",
    "acumulador = 0\n",
    "\n",
    "for i, dato in datos.iterrows():\n",
    "    max = dato.max()\n",
    "    min = dato.min()\n",
    "    acumulador += max - min\n",
    "\n",
    "print(acumulador)\n"
   ]
  },
  {
   "cell_type": "code",
   "execution_count": 72,
   "metadata": {},
   "outputs": [
    {
     "name": "stdout",
     "output_type": "stream",
     "text": [
      "236.0\n"
     ]
    }
   ],
   "source": [
    "import pandas as pd\n",
    "\n",
    "datos = pd.read_csv(\"/home/manuel-colin/Documentos/ClasesRech/6HojaCalculo/Lista.csv\", header= None)\n",
    "acumulador = 0\n",
    "\n",
    "for i,fila in datos.iterrows():\n",
    "   num = fila.tolist()\n",
    "   for x in range(len(num)):\n",
    "      for y in range(len(num)):\n",
    "         if num[x] != num[y]:\n",
    "            if num[x] % num[y] == 0:\n",
    "               resultado = num[x]/num[y]\n",
    "               acumulador += resultado\n",
    "              \n",
    "print(acumulador)\n",
    "      "
   ]
  }
 ],
 "metadata": {
  "kernelspec": {
   "display_name": "base",
   "language": "python",
   "name": "python3"
  },
  "language_info": {
   "codemirror_mode": {
    "name": "ipython",
    "version": 3
   },
   "file_extension": ".py",
   "mimetype": "text/x-python",
   "name": "python",
   "nbconvert_exporter": "python",
   "pygments_lexer": "ipython3",
   "version": "3.12.7"
  }
 },
 "nbformat": 4,
 "nbformat_minor": 2
}
